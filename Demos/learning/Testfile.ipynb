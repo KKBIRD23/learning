{
 "cells": [
  {
   "cell_type": "code",
   "execution_count": 8,
   "outputs": [
    {
     "name": "stdout",
     "output_type": "stream",
     "text": [
      "{'22': 'aa'}\n",
      "{'22': 'aa', '33': 'bb'}\n",
      "{'22': 'aa', '33': 'bb', '55': 'cc'}\n"
     ]
    }
   ],
   "source": [
    "# 调到一个字典\n",
    "dict_test = {\n",
    "    \"aa\": 22,\n",
    "    \"bb\": 33,\n",
    "    \"cc\": 55\n",
    "}\n",
    "\n",
    "dict_tmp = {}\n",
    "for i in dict_test:\n",
    "    dict_tmp[f'{dict_test[i]}'] = i\n",
    "\n",
    "    print(dict_tmp)"
   ],
   "metadata": {
    "collapsed": false,
    "pycharm": {
     "name": "#%%\n"
    }
   }
  },
  {
   "cell_type": "code",
   "execution_count": 13,
   "outputs": [
    {
     "name": "stdout",
     "output_type": "stream",
     "text": [
      "{'aa': 22, 'bb': 33, 'cc': 55, 22: 99, '22': 88}\n",
      "99\n",
      "88\n"
     ]
    }
   ],
   "source": [
    "dict_test = {\"aa\": 22, \"bb\": 33, \"cc\": 55, 22: 99, \"22\": 88}\n",
    "\n",
    "print(dict_test)\n",
    "print(dict_test[22])\n",
    "print(dict_test[\"22\"])"
   ],
   "metadata": {
    "collapsed": false,
    "pycharm": {
     "name": "#%%\n"
    }
   }
  },
  {
   "cell_type": "code",
   "execution_count": 11,
   "outputs": [
    {
     "name": "stdout",
     "output_type": "stream",
     "text": [
      "密码不正确\n"
     ]
    }
   ],
   "source": [
    "a='\\xe5\\xaf\\x86\\xe7\\xa0\\x81\\xe4\\xb8\\x8d\\xe6\\xad\\xa3\\xe7\\xa1\\xae' #str类型\n",
    "print(a.encode(\"raw_unicode_escape\").decode(\"utf-8\"))"
   ],
   "metadata": {
    "collapsed": false,
    "pycharm": {
     "name": "#%%\n"
    }
   }
  },
  {
   "cell_type": "code",
   "execution_count": 58,
   "outputs": [
    {
     "name": "stdout",
     "output_type": "stream",
     "text": [
      "['123', '123456', 'vfj@1234']\n"
     ]
    }
   ],
   "source": [
    "pw_file = open(\"D:\\WorkSpaces\\Python\\WorkSpaces\\Demos\\前置检查\\PW\", \"r\").readlines()\n",
    "test_file = open(\"D:\\WorkSpaces\\Python\\WorkSpaces\\Demos\\前置检查\\TEST\", \"w\")\n",
    "pw_list = []\n",
    "for pw in  pw_file:\n",
    "    pw_list.append(pw.replace(\"\\n\", \"\").replace(\"\\r\", \"\"))\n",
    "    test_file.writelines(\"123\")\n",
    "    test_file.writelines(\"456\")\n",
    "    test_file.writelines(\"789\")\n",
    "\n",
    "\n",
    "print(pw_list)\n",
    "test_file.close()\n"
   ],
   "metadata": {
    "collapsed": false,
    "pycharm": {
     "name": "#%%\n"
    }
   }
  }
 ],
 "metadata": {
  "kernelspec": {
   "display_name": "Python 3",
   "language": "python",
   "name": "python3"
  },
  "language_info": {
   "codemirror_mode": {
    "name": "ipython",
    "version": 2
   },
   "file_extension": ".py",
   "mimetype": "text/x-python",
   "name": "python",
   "nbconvert_exporter": "python",
   "pygments_lexer": "ipython2",
   "version": "2.7.6"
  }
 },
 "nbformat": 4,
 "nbformat_minor": 0
}