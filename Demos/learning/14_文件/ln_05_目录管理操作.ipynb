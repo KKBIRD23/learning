{
 "cells": [
  {
   "cell_type": "markdown",
   "source": [
    "文件/目录的常用管理操作 受限第一步需要导入 `OS` 模块\n",
    "- 在终端/文件浏览器中可以执行常规的文件/目录管理操作，例如：\n",
    "- 创建、重命名、删除、改变路径、查看目录内容、……\n",
    "- 在 `Python` 中，如果希望通过程序实现上述功能，需要导入 `os` 模块\n",
    "\n",
    "### 文件操作\n",
    "| 序号 | 方法名 | 说明       | 示例                            |\n",
    "| :--- | :----- | :--------- | :------------------------------ |\n",
    "| 01   | rename | 重命名文件 | os.rename(源文件名, 目标文件名) |\n",
    "| 02   | remove | 删除文件   | os.remove(文件名)               |\n",
    "\n",
    "### 目录操作\n",
    "| 序号 | 方法名     | 说明           | 示例                    |\n",
    "| :--- | :--------- | :------------- | :---------------------- |\n",
    "| 01   | listdir    | 目录列表       | os.listdir(目录名)      |\n",
    "| 02   | mkdir      | 创建目录       | os.mkdir(目录名)        |\n",
    "| 03   | rmdir      | 删除目录       | os.rmdir(目录名)        |\n",
    "| 04   | getcwd     | 获取当前目录   | os.getcwd()             |\n",
    "| 05   | chdir      | 修改工作目录   | os.chdir(目标目录)      |\n",
    "| 06   | path.isdir | 判断是否是文件 | os.path.isdir(文件路径) |\n",
    "\n",
    ">  提示：文件或者目录操作都支持 **相对路径** 和 **绝对路径**"
   ],
   "metadata": {
    "collapsed": false,
    "pycharm": {
     "name": "#%% md\n"
    }
   }
  },
  {
   "cell_type": "code",
   "execution_count": 2,
   "outputs": [],
   "source": [
    "import os\n",
    "os.rename(\"hello.txt\", \"123.txt\")"
   ],
   "metadata": {
    "collapsed": false,
    "pycharm": {
     "name": "#%%\n"
    }
   }
  },
  {
   "cell_type": "code",
   "execution_count": 8,
   "outputs": [
    {
     "ename": "FileNotFoundError",
     "evalue": "[WinError 2] 系统找不到指定的文件。: '123.txt'",
     "output_type": "error",
     "traceback": [
      "\u001B[1;31m---------------------------------------------------------------------------\u001B[0m",
      "\u001B[1;31mFileNotFoundError\u001B[0m                         Traceback (most recent call last)",
      "Input \u001B[1;32mIn [8]\u001B[0m, in \u001B[0;36m<cell line: 1>\u001B[1;34m()\u001B[0m\n\u001B[1;32m----> 1\u001B[0m \u001B[43mos\u001B[49m\u001B[38;5;241;43m.\u001B[39;49m\u001B[43mremove\u001B[49m\u001B[43m(\u001B[49m\u001B[38;5;124;43m\"\u001B[39;49m\u001B[38;5;124;43m123.txt\u001B[39;49m\u001B[38;5;124;43m\"\u001B[39;49m\u001B[43m)\u001B[49m\n",
      "\u001B[1;31mFileNotFoundError\u001B[0m: [WinError 2] 系统找不到指定的文件。: '123.txt'"
     ]
    }
   ],
   "source": [
    "os.remove(\"123.txt\")"
   ],
   "metadata": {
    "collapsed": false,
    "pycharm": {
     "name": "#%%\n"
    }
   }
  },
  {
   "cell_type": "code",
   "execution_count": 15,
   "outputs": [
    {
     "data": {
      "text/plain": "['$RECYCLE.BIN',\n '43550',\n 'AMD',\n 'kingsoft',\n 'KuGou',\n 'MapData',\n 'MyDocuments',\n 'MyLink',\n 'Program Files',\n 'Program Files (x86)',\n 'ProgramData',\n 'System Volume Information',\n 'VOS',\n 'WindowsApps',\n 'WorkSpaces',\n 'X_Download',\n '剧']"
     },
     "execution_count": 15,
     "metadata": {},
     "output_type": "execute_result"
    }
   ],
   "source": [
    "os.listdir(\"d:/\")  # 注意返回的是一个列表"
   ],
   "metadata": {
    "collapsed": false,
    "pycharm": {
     "name": "#%%\n"
    }
   }
  },
  {
   "cell_type": "code",
   "execution_count": 17,
   "outputs": [
    {
     "data": {
      "text/plain": "True"
     },
     "execution_count": 17,
     "metadata": {},
     "output_type": "execute_result"
    }
   ],
   "source": [
    "os.path.isdir(\"d:/WindowsApps\")"
   ],
   "metadata": {
    "collapsed": false,
    "pycharm": {
     "name": "#%%\n"
    }
   }
  },
  {
   "cell_type": "code",
   "execution_count": 24,
   "outputs": [],
   "source": [
    "os.mkdir(\"test\")\n"
   ],
   "metadata": {
    "collapsed": false,
    "pycharm": {
     "name": "#%%\n"
    }
   }
  },
  {
   "cell_type": "code",
   "execution_count": 25,
   "outputs": [],
   "source": [
    "os.rmdir(\"test\")"
   ],
   "metadata": {
    "collapsed": false,
    "pycharm": {
     "name": "#%%\n"
    }
   }
  },
  {
   "cell_type": "code",
   "execution_count": null,
   "outputs": [],
   "source": [],
   "metadata": {
    "collapsed": false,
    "pycharm": {
     "name": "#%%\n"
    }
   }
  }
 ],
 "metadata": {
  "kernelspec": {
   "display_name": "Python 3",
   "language": "python",
   "name": "python3"
  },
  "language_info": {
   "codemirror_mode": {
    "name": "ipython",
    "version": 2
   },
   "file_extension": ".py",
   "mimetype": "text/x-python",
   "name": "python",
   "nbconvert_exporter": "python",
   "pygments_lexer": "ipython2",
   "version": "2.7.6"
  }
 },
 "nbformat": 4,
 "nbformat_minor": 0
}