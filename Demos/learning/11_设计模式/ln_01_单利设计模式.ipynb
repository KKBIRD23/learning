{
 "cells": [
  {
   "cell_type": "markdown",
   "source": [
    "01. 单例设计模式\n",
    "设计模式\n",
    "设计模式 是 前人工作的总结和提炼，通常，被人们广泛流传的设计模式都是针对 某一特定问题 的成熟的解决方案\n",
    "使用 设计模式 是为了可重用代码、让代码更容易被他人理解、保证代码可靠性\n",
    "单例设计模式\n",
    "目的 —— 让 类 创建的对象，在系统中 只有 唯一的一个实例\n",
    "每一次执行 类名() 返回的对象，内存地址是相同的\n",
    "单例设计模式的应用场景\n",
    "音乐播放 对象\n",
    "\n",
    "02. __new__ 方法\n",
    "使用 类名() 创建对象时，Python 的解释器 首先 会 调用 __new__ 方法为对象 分配空间\n",
    "__new__\n",
    "是一个由object基类提供的内置的静态方法，主要作用有两个：\n",
    "在内存中为对象 分配空间返回 对象的引用\n",
    "Python 的解释器获得对象的 引用 后，将引用作为 第一个参数，传递给 __init__ 方法\n",
    "重写 __new__ 方法 的代码非常固定！\n",
    "重写 __new__ 方法 一定要 return super().__new__(cls)\n",
    "否则 Python 的解释器 得不到 分配了空间的 对象引用，就不会调用对象的初始化方法\n",
    "注意：__new__ 是一个静态方法，在调用时需要 主动传递 cls 参数"
   ],
   "metadata": {
    "collapsed": false,
    "pycharm": {
     "name": "#%% md\n"
    }
   }
  },
  {
   "cell_type": "code",
   "execution_count": null,
   "outputs": [],
   "source": [
    "class MusicPlayer(object):\n",
    "    def __init__(self):\n",
    "        print(\"播放器初始化\")\n",
    "\n",
    "# 创建播放器对象\n",
    "player = MusicPlayer()\n",
    "print(player)"
   ],
   "metadata": {
    "collapsed": false,
    "pycharm": {
     "name": "#%%\n"
    }
   }
  }
 ],
 "metadata": {
  "kernelspec": {
   "display_name": "Python 3",
   "language": "python",
   "name": "python3"
  },
  "language_info": {
   "codemirror_mode": {
    "name": "ipython",
    "version": 2
   },
   "file_extension": ".py",
   "mimetype": "text/x-python",
   "name": "python",
   "nbconvert_exporter": "python",
   "pygments_lexer": "ipython2",
   "version": "2.7.6"
  }
 },
 "nbformat": 4,
 "nbformat_minor": 0
}