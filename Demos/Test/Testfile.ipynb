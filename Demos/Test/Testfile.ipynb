{
 "cells": [
  {
   "cell_type": "markdown",
   "source": [
    "sys.argv[]测试"
   ],
   "metadata": {
    "collapsed": false,
    "pycharm": {
     "name": "#%% md\n"
    }
   }
  },
  {
   "cell_type": "code",
   "execution_count": null,
   "outputs": [],
   "source": [
    "import sys\n",
    "import os\n",
    "\n",
    "print(sys.argv[0])\n",
    "print(os.getcwd())\n",
    "print(os.path)"
   ],
   "metadata": {
    "collapsed": false,
    "pycharm": {
     "name": "#%%\n"
    }
   }
  },
  {
   "cell_type": "markdown",
   "source": [],
   "metadata": {
    "collapsed": false,
    "pycharm": {
     "name": "#%% md\n"
    }
   }
  },
  {
   "cell_type": "markdown",
   "source": [
    "paramiko帕拉米科SSH2远程连接模块测试"
   ],
   "metadata": {
    "collapsed": false,
    "pycharm": {
     "name": "#%% md\n"
    }
   }
  },
  {
   "cell_type": "code",
   "execution_count": null,
   "outputs": [],
   "source": [
    "import paramiko\n",
    "\n",
    "transport = paramiko.Transport((\"192.168.3.3\", 22))\n",
    "\n",
    "ssh = paramiko.SSHClient()\n",
    "\n",
    "ssh.connect(\"192.168.3.1\", 22, username=\"123\", password=\"321\", timeout=3)"
   ],
   "metadata": {
    "collapsed": false,
    "pycharm": {
     "name": "#%%\n"
    }
   }
  },
  {
   "cell_type": "markdown",
   "source": [],
   "metadata": {
    "collapsed": false,
    "pycharm": {
     "name": "#%% md\n"
    }
   }
  },
  {
   "cell_type": "markdown",
   "source": [
    "difflib文件比较模块,返回打分有点意思"
   ],
   "metadata": {
    "collapsed": false,
    "pycharm": {
     "name": "#%% md\n"
    }
   }
  },
  {
   "cell_type": "code",
   "execution_count": 1,
   "outputs": [
    {
     "data": {
      "text/plain": "0.9767441860465116"
     },
     "execution_count": 1,
     "metadata": {},
     "output_type": "execute_result"
    }
   ],
   "source": [
    "import difflib\n",
    "\n",
    "a = 'Authentication failed.'\n",
    "b = 'Authentication failed'\n",
    "difflib.SequenceMatcher(None, a, b).quick_ratio()"
   ],
   "metadata": {
    "collapsed": false,
    "pycharm": {
     "name": "#%%\n"
    }
   }
  },
  {
   "cell_type": "markdown",
   "source": [],
   "metadata": {
    "collapsed": false,
    "pycharm": {
     "name": "#%% md\n"
    }
   }
  },
  {
   "cell_type": "markdown",
   "source": [
    "configobj模块测试 操作ini配置文件"
   ],
   "metadata": {
    "collapsed": false,
    "pycharm": {
     "name": "#%% md\n"
    }
   }
  },
  {
   "cell_type": "code",
   "execution_count": null,
   "outputs": [],
   "source": [
    "from configobj import ConfigObj\n",
    "\n",
    "conf_ini = r\"./test.ini\"\n",
    "config = ConfigObj(conf_ini, encoding=\"UTF8\")\n",
    "\n",
    "print(config)\n",
    "print(config['server'])\n",
    "print(config['server']['servername'], config['server']['serverport'])\n",
    "\n",
    "config['new_items'] = {}\n",
    "config['new_items']['Items1'] = \"test items\"\n",
    "config.write()"
   ],
   "metadata": {
    "collapsed": false,
    "pycharm": {
     "name": "#%%\n"
    }
   }
  },
  {
   "cell_type": "markdown",
   "source": [],
   "metadata": {
    "collapsed": false,
    "pycharm": {
     "name": "#%% md\n"
    }
   }
  },
  {
   "cell_type": "markdown",
   "source": [
    "urllib3发短信——发高速没成功"
   ],
   "metadata": {
    "collapsed": false,
    "pycharm": {
     "name": "#%% md\n"
    }
   }
  },
  {
   "cell_type": "code",
   "execution_count": null,
   "outputs": [],
   "source": [
    "import urllib3\n",
    "\n",
    "sms = urllib3.PoolManager(timeout = 3.0)\n",
    "# data = {\n",
    "#     'account':'C79839345',\n",
    "#     'password':'caa1c9028312cfbe5f840873f26d075a',\n",
    "#     'mobile':'18983884801',\n",
    "#     'content':'您的验证码是：123456。请不要把验证码泄露给其他人。',\n",
    "#     'format':'json',\n",
    "# }\n",
    "data = {\n",
    "    \"custno\": \"\",\n",
    "    \"phoneno\": 18983884801,\n",
    "    \"remark\": \"黑匣子系统单线程处理时间超警戒[16674], 请尽快处理\"\n",
    "}\n",
    "\n",
    "url = \"http://10.50.14.201:8080/sms/services/MsgService/\"\n",
    "req = sms.request(\"POST\", url, fields=data)\n",
    "\n",
    "print(req.data.decode())"
   ],
   "metadata": {
    "collapsed": false,
    "pycharm": {
     "name": "#%%\n"
    }
   }
  },
  {
   "cell_type": "markdown",
   "source": [],
   "metadata": {
    "collapsed": false,
    "pycharm": {
     "name": "#%% md\n"
    }
   }
  },
  {
   "cell_type": "markdown",
   "source": [
    "watchdog库使用测试"
   ],
   "metadata": {
    "collapsed": false,
    "pycharm": {
     "name": "#%% md\n"
    }
   }
  },
  {
   "cell_type": "code",
   "execution_count": null,
   "outputs": [],
   "source": [
    "\"\"\"\n",
    "看门狗的observer是基于threading.Thread 对象的，所以observer很多属性都继承了 threading.Thread 的属性.\n",
    "如果你不带参数地运行该脚本，就是要监控脚本文件所在的文件夹，如果要监控其他文件夹，记得运行时带文件夹的路径参数，如：\n",
    "python obserber.py /data/home/ckend/\n",
    "\"\"\"\n",
    "from watchdog.observers import Observer\n",
    "from watchdog.events import *\n",
    "import time\n",
    "\n",
    "a = r\"H:\\歌曲库\\ACG\\影视ACG\\加勒比海盗\"\n",
    "\n",
    "class MyHandler(FileSystemEventHandler):\n",
    "    def on_modified(self, event):\n",
    "        print(\"文件被修改了 %s\"%event.src_path)\n",
    "\n",
    "    def on_created(self, event):\n",
    "        print(\"文件被创建了 %s\" % event.src_path)\n",
    "\n",
    "\n",
    "if __name__ == \"__main__\":\n",
    "    path = a\n",
    "    event_handler = MyHandler()\n",
    "    observer = Observer()\n",
    "    observer.schedule(event_handler, path, recursive=True)\n",
    "    observer.start()\n",
    "\n",
    "    try:\n",
    "        while True:\n",
    "            time.sleep(1)\n",
    "\n",
    "    except KeyboardInterrupt:\n",
    "        observer.stop()\n",
    "    observer.join()\n"
   ],
   "metadata": {
    "collapsed": false,
    "pycharm": {
     "name": "#%%\n"
    }
   }
  },
  {
   "cell_type": "markdown",
   "source": [],
   "metadata": {
    "collapsed": false,
    "pycharm": {
     "name": "#%% md\n"
    }
   }
  },
  {
   "cell_type": "markdown",
   "source": [
    "suds —— python soap接口访问webserver"
   ],
   "metadata": {
    "collapsed": false,
    "pycharm": {
     "name": "#%% md\n"
    }
   }
  },
  {
   "cell_type": "markdown",
   "source": [],
   "metadata": {
    "collapsed": false,
    "pycharm": {
     "name": "#%% md\n"
    }
   }
  },
  {
   "cell_type": "code",
   "execution_count": null,
   "outputs": [],
   "source": [],
   "metadata": {
    "collapsed": false,
    "pycharm": {
     "name": "#%%\n"
    }
   }
  },
  {
   "cell_type": "markdown",
   "source": [
    "OBU条码识别"
   ],
   "metadata": {
    "collapsed": false,
    "pycharm": {
     "name": "#%% md\n"
    }
   }
  },
  {
   "cell_type": "code",
   "execution_count": 2,
   "outputs": [
    {
     "ename": "TypeError",
     "evalue": "cannot unpack non-iterable NoneType object",
     "output_type": "error",
     "traceback": [
      "\u001B[1;31m---------------------------------------------------------------------------\u001B[0m",
      "\u001B[1;31mTypeError\u001B[0m                                 Traceback (most recent call last)",
      "Input \u001B[1;32mIn [2]\u001B[0m, in \u001B[0;36m<cell line: 7>\u001B[1;34m()\u001B[0m\n\u001B[0;32m      3\u001B[0m \u001B[38;5;28;01mfrom\u001B[39;00m \u001B[38;5;21;01mpyzbar\u001B[39;00m\u001B[38;5;21;01m.\u001B[39;00m\u001B[38;5;21;01mpyzbar\u001B[39;00m \u001B[38;5;28;01mimport\u001B[39;00m decode\n\u001B[0;32m      5\u001B[0m img \u001B[38;5;241m=\u001B[39m cv2\u001B[38;5;241m.\u001B[39mimread(\u001B[38;5;124m\"\u001B[39m\u001B[38;5;124m..\u001B[39m\u001B[38;5;124m\\\u001B[39m\u001B[38;5;124m识别多个条码\u001B[39m\u001B[38;5;124m\\\u001B[39m\u001B[38;5;124mobu_img\u001B[39m\u001B[38;5;124m\\\u001B[39m\u001B[38;5;124mATS01.jpg\u001B[39m\u001B[38;5;124m\"\u001B[39m)\n\u001B[1;32m----> 7\u001B[0m \u001B[38;5;28;01mfor\u001B[39;00m barcode \u001B[38;5;129;01min\u001B[39;00m \u001B[43mdecode\u001B[49m\u001B[43m(\u001B[49m\u001B[43mimg\u001B[49m\u001B[43m)\u001B[49m:\n\u001B[0;32m      8\u001B[0m      \u001B[38;5;28mprint\u001B[39m(barcode\u001B[38;5;241m.\u001B[39mdata)\n\u001B[0;32m      9\u001B[0m      myData \u001B[38;5;241m=\u001B[39m barcode\u001B[38;5;241m.\u001B[39mdata\u001B[38;5;241m.\u001B[39mdecode(\u001B[38;5;124m\"\u001B[39m\u001B[38;5;124mutf-8\u001B[39m\u001B[38;5;124m\"\u001B[39m)\n",
      "File \u001B[1;32mD:\\ProgramData\\Anaconda3\\lib\\site-packages\\pyzbar\\pyzbar.py:207\u001B[0m, in \u001B[0;36mdecode\u001B[1;34m(image, symbols)\u001B[0m\n\u001B[0;32m    196\u001B[0m \u001B[38;5;28;01mdef\u001B[39;00m \u001B[38;5;21mdecode\u001B[39m(image, symbols\u001B[38;5;241m=\u001B[39m\u001B[38;5;28;01mNone\u001B[39;00m):\n\u001B[0;32m    197\u001B[0m     \u001B[38;5;124;03m\"\"\"Decodes datamatrix barcodes in `image`.\u001B[39;00m\n\u001B[0;32m    198\u001B[0m \n\u001B[0;32m    199\u001B[0m \u001B[38;5;124;03m    Args:\u001B[39;00m\n\u001B[1;32m   (...)\u001B[0m\n\u001B[0;32m    205\u001B[0m \u001B[38;5;124;03m        :obj:`list` of :obj:`Decoded`: The values decoded from barcodes.\u001B[39;00m\n\u001B[0;32m    206\u001B[0m \u001B[38;5;124;03m    \"\"\"\u001B[39;00m\n\u001B[1;32m--> 207\u001B[0m     pixels, width, height \u001B[38;5;241m=\u001B[39m \u001B[43m_pixel_data\u001B[49m\u001B[43m(\u001B[49m\u001B[43mimage\u001B[49m\u001B[43m)\u001B[49m\n\u001B[0;32m    209\u001B[0m     results \u001B[38;5;241m=\u001B[39m []\n\u001B[0;32m    210\u001B[0m     \u001B[38;5;28;01mwith\u001B[39;00m _image_scanner() \u001B[38;5;28;01mas\u001B[39;00m scanner:\n",
      "File \u001B[1;32mD:\\ProgramData\\Anaconda3\\lib\\site-packages\\pyzbar\\pyzbar.py:173\u001B[0m, in \u001B[0;36m_pixel_data\u001B[1;34m(image)\u001B[0m\n\u001B[0;32m    170\u001B[0m     height, width \u001B[38;5;241m=\u001B[39m image\u001B[38;5;241m.\u001B[39mshape[:\u001B[38;5;241m2\u001B[39m]\n\u001B[0;32m    171\u001B[0m \u001B[38;5;28;01melse\u001B[39;00m:\n\u001B[0;32m    172\u001B[0m     \u001B[38;5;66;03m# image should be a tuple (pixels, width, height)\u001B[39;00m\n\u001B[1;32m--> 173\u001B[0m     pixels, width, height \u001B[38;5;241m=\u001B[39m image\n\u001B[0;32m    175\u001B[0m     \u001B[38;5;66;03m# Check dimensions\u001B[39;00m\n\u001B[0;32m    176\u001B[0m     \u001B[38;5;28;01mif\u001B[39;00m \u001B[38;5;241m0\u001B[39m \u001B[38;5;241m!=\u001B[39m \u001B[38;5;28mlen\u001B[39m(pixels) \u001B[38;5;241m%\u001B[39m (width \u001B[38;5;241m*\u001B[39m height):\n",
      "\u001B[1;31mTypeError\u001B[0m: cannot unpack non-iterable NoneType object"
     ]
    }
   ],
   "source": [
    "import cv2\n",
    "import numpy as np\n",
    "from pyzbar.pyzbar import decode\n",
    "\n",
    "img = cv2.imread(\"..\\识别多个条码\\obu_img\\ATS01.jpg\")\n",
    "\n",
    "for barcode in decode(img):\n",
    "     print(barcode.data)\n",
    "     myData = barcode.data.decode(\"utf-8\")\n",
    "     print(myData)\n"
   ],
   "metadata": {
    "collapsed": false,
    "pycharm": {
     "name": "#%%\n"
    }
   }
  },
  {
   "cell_type": "markdown",
   "source": [],
   "metadata": {
    "collapsed": false,
    "pycharm": {
     "name": "#%% md\n"
    }
   }
  }
 ],
 "metadata": {
  "kernelspec": {
   "display_name": "Python 3",
   "language": "python",
   "name": "python3"
  },
  "language_info": {
   "codemirror_mode": {
    "name": "ipython",
    "version": 2
   },
   "file_extension": ".py",
   "mimetype": "text/x-python",
   "name": "python",
   "nbconvert_exporter": "python",
   "pygments_lexer": "ipython2",
   "version": "2.7.6"
  }
 },
 "nbformat": 4,
 "nbformat_minor": 0
}