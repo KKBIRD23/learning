{
 "cells": [
  {
   "cell_type": "markdown",
   "source": [
    "sys.argv[]测试"
   ],
   "metadata": {
    "collapsed": false,
    "pycharm": {
     "name": "#%% md\n"
    }
   }
  },
  {
   "cell_type": "code",
   "execution_count": null,
   "outputs": [],
   "source": [
    "import sys\n",
    "import os\n",
    "\n",
    "print(sys.argv[0])\n",
    "print(os.getcwd())\n",
    "print(os.path)"
   ],
   "metadata": {
    "collapsed": false,
    "pycharm": {
     "name": "#%%\n"
    }
   }
  },
  {
   "cell_type": "markdown",
   "source": [],
   "metadata": {
    "collapsed": false,
    "pycharm": {
     "name": "#%% md\n"
    }
   }
  },
  {
   "cell_type": "markdown",
   "source": [
    "paramiko帕拉米科SSH2远程连接模块测试"
   ],
   "metadata": {
    "collapsed": false,
    "pycharm": {
     "name": "#%% md\n"
    }
   }
  },
  {
   "cell_type": "code",
   "execution_count": null,
   "outputs": [],
   "source": [
    "import paramiko\n",
    "\n",
    "transport = paramiko.Transport((\"192.168.3.3\", 22))\n",
    "\n",
    "ssh = paramiko.SSHClient()\n",
    "\n",
    "ssh.connect(\"192.168.3.1\", 22, username=\"123\", password=\"321\", timeout=3)"
   ],
   "metadata": {
    "collapsed": false,
    "pycharm": {
     "name": "#%%\n"
    }
   }
  },
  {
   "cell_type": "markdown",
   "source": [],
   "metadata": {
    "collapsed": false,
    "pycharm": {
     "name": "#%% md\n"
    }
   }
  },
  {
   "cell_type": "markdown",
   "source": [
    "difflib文件比较模块,返回打分有点意思"
   ],
   "metadata": {
    "collapsed": false,
    "pycharm": {
     "name": "#%% md\n"
    }
   }
  },
  {
   "cell_type": "code",
   "execution_count": 1,
   "outputs": [
    {
     "data": {
      "text/plain": "0.9767441860465116"
     },
     "execution_count": 1,
     "metadata": {},
     "output_type": "execute_result"
    }
   ],
   "source": [
    "import difflib\n",
    "\n",
    "a = 'Authentication failed.'\n",
    "b = 'Authentication failed'\n",
    "difflib.SequenceMatcher(None, a, b).quick_ratio()"
   ],
   "metadata": {
    "collapsed": false,
    "pycharm": {
     "name": "#%%\n"
    }
   }
  },
  {
   "cell_type": "markdown",
   "source": [],
   "metadata": {
    "collapsed": false,
    "pycharm": {
     "name": "#%% md\n"
    }
   }
  },
  {
   "cell_type": "markdown",
   "source": [
    "configobj模块测试 操作ini配置文件"
   ],
   "metadata": {
    "collapsed": false,
    "pycharm": {
     "name": "#%% md\n"
    }
   }
  },
  {
   "cell_type": "code",
   "execution_count": null,
   "outputs": [],
   "source": [
    "from configobj import ConfigObj\n",
    "\n",
    "conf_ini = r\"./test.ini\"\n",
    "config = ConfigObj(conf_ini, encoding=\"UTF8\")\n",
    "\n",
    "print(config)\n",
    "print(config['server'])\n",
    "print(config['server']['servername'], config['server']['serverport'])\n",
    "\n",
    "config['new_items'] = {}\n",
    "config['new_items']['Items1'] = \"test items\"\n",
    "config.write()"
   ],
   "metadata": {
    "collapsed": false,
    "pycharm": {
     "name": "#%%\n"
    }
   }
  },
  {
   "cell_type": "markdown",
   "source": [],
   "metadata": {
    "collapsed": false,
    "pycharm": {
     "name": "#%% md\n"
    }
   }
  },
  {
   "cell_type": "markdown",
   "source": [
    "urllib3发短信——发高速没成功"
   ],
   "metadata": {
    "collapsed": false,
    "pycharm": {
     "name": "#%% md\n"
    }
   }
  },
  {
   "cell_type": "code",
   "execution_count": null,
   "outputs": [],
   "source": [
    "import urllib3\n",
    "\n",
    "sms = urllib3.PoolManager(timeout = 3.0)\n",
    "# data = {\n",
    "#     'account':'C79839345',\n",
    "#     'password':'caa1c9028312cfbe5f840873f26d075a',\n",
    "#     'mobile':'18983884801',\n",
    "#     'content':'您的验证码是：123456。请不要把验证码泄露给其他人。',\n",
    "#     'format':'json',\n",
    "# }\n",
    "data = {\n",
    "    \"custno\": \"\",\n",
    "    \"phoneno\": 18983884801,\n",
    "    \"remark\": \"黑匣子系统单线程处理时间超警戒[16674], 请尽快处理\"\n",
    "}\n",
    "\n",
    "url = \"http://10.50.14.201:8080/sms/services/MsgService/\"\n",
    "req = sms.request(\"POST\", url, fields=data)\n",
    "\n",
    "print(req.data.decode())"
   ],
   "metadata": {
    "collapsed": false,
    "pycharm": {
     "name": "#%%\n"
    }
   }
  },
  {
   "cell_type": "markdown",
   "source": [],
   "metadata": {
    "collapsed": false,
    "pycharm": {
     "name": "#%% md\n"
    }
   }
  },
  {
   "cell_type": "markdown",
   "source": [
    "watchdog库使用测试"
   ],
   "metadata": {
    "collapsed": false,
    "pycharm": {
     "name": "#%% md\n"
    }
   }
  },
  {
   "cell_type": "code",
   "execution_count": null,
   "outputs": [],
   "source": [
    "\"\"\"\n",
    "看门狗的observer是基于threading.Thread 对象的，所以observer很多属性都继承了 threading.Thread 的属性.\n",
    "如果你不带参数地运行该脚本，就是要监控脚本文件所在的文件夹，如果要监控其他文件夹，记得运行时带文件夹的路径参数，如：\n",
    "python obserber.py /data/home/ckend/\n",
    "\"\"\"\n",
    "from watchdog.observers import Observer\n",
    "from watchdog.events import *\n",
    "import time\n",
    "\n",
    "a = r\"H:\\歌曲库\\ACG\\影视ACG\\加勒比海盗\"\n",
    "\n",
    "class MyHandler(FileSystemEventHandler):\n",
    "    def on_modified(self, event):\n",
    "        print(\"文件被修改了 %s\"%event.src_path)\n",
    "\n",
    "    def on_created(self, event):\n",
    "        print(\"文件被创建了 %s\" % event.src_path)\n",
    "\n",
    "\n",
    "if __name__ == \"__main__\":\n",
    "    path = a\n",
    "    event_handler = MyHandler()\n",
    "    observer = Observer()\n",
    "    observer.schedule(event_handler, path, recursive=True)\n",
    "    observer.start()\n",
    "\n",
    "    try:\n",
    "        while True:\n",
    "            time.sleep(1)\n",
    "\n",
    "    except KeyboardInterrupt:\n",
    "        observer.stop()\n",
    "    observer.join()\n"
   ],
   "metadata": {
    "collapsed": false,
    "pycharm": {
     "name": "#%%\n"
    }
   }
  },
  {
   "cell_type": "code",
   "execution_count": 13,
   "outputs": [
    {
     "name": "stdout",
     "output_type": "stream",
     "text": [
      "{'aa': 22, 'bb': 33, 'cc': 55, 22: 99, '22': 88}\n",
      "99\n",
      "88\n"
     ]
    }
   ],
   "source": [
    "dict_test = {\"aa\": 22, \"bb\": 33, \"cc\": 55, 22: 99, \"22\": 88}\n",
    "\n",
    "print(dict_test)\n",
    "print(dict_test[22])\n",
    "print(dict_test[\"22\"])"
   ],
   "metadata": {
    "collapsed": false,
    "pycharm": {
     "name": "#%%\n"
    }
   }
  },
  {
   "cell_type": "code",
   "execution_count": 7,
   "outputs": [
    {
     "name": "stdout",
     "output_type": "stream",
     "text": [
      "['张无忌', '赵敏']\n"
     ]
    }
   ],
   "source": [
    "l1 = [\"张无忌\", \"赵敏\"]\n",
    "l2 = l1\n",
    "l1 = \"王八蛋\"\n",
    "print(l2)"
   ],
   "metadata": {
    "collapsed": false,
    "pycharm": {
     "name": "#%%\n"
    }
   }
  },
  {
   "cell_type": "code",
   "execution_count": 13,
   "outputs": [
    {
     "data": {
      "text/plain": "range(0, 110)"
     },
     "execution_count": 13,
     "metadata": {},
     "output_type": "execute_result"
    }
   ],
   "source": [
    "range(0, 110)"
   ],
   "metadata": {
    "collapsed": false,
    "pycharm": {
     "name": "#%%\n"
    }
   }
  },
  {
   "cell_type": "code",
   "execution_count": 14,
   "outputs": [
    {
     "data": {
      "text/plain": "range"
     },
     "execution_count": 14,
     "metadata": {},
     "output_type": "execute_result"
    }
   ],
   "source": [
    "range"
   ],
   "metadata": {
    "collapsed": false,
    "pycharm": {
     "name": "#%%\n"
    }
   }
  },
  {
   "cell_type": "code",
   "execution_count": 21,
   "outputs": [
    {
     "name": "stdout",
     "output_type": "stream",
     "text": [
      "range(0, 10)\n"
     ]
    }
   ],
   "source": [
    "i = range(0, 10)\n",
    "print(i)"
   ],
   "metadata": {
    "collapsed": false,
    "pycharm": {
     "name": "#%%\n"
    }
   }
  },
  {
   "cell_type": "code",
   "execution_count": 3,
   "outputs": [],
   "source": [
    "try:\n",
    "    a = input(\"输入一个数：\")\n",
    "    if not a.isdigit():\n",
    "        raise ValueError(\"a 必须是数字\")\n",
    "\n",
    "except ValueError as e:\n",
    "    print(\"引发异常：\", repr(e))\n",
    "    raise"
   ],
   "metadata": {
    "collapsed": false,
    "pycharm": {
     "name": "#%%\n"
    }
   }
  },
  {
   "cell_type": "code",
   "execution_count": null,
   "outputs": [],
   "source": [
    "pw_file = open(\"D:\\WorkSpaces\\Python\\WorkSpaces\\Demos\\前置检查\\PW\", \"r\")\n",
    "ip_file = open(\"D:\\WorkSpaces\\Python\\WorkSpaces\\Demos\\前置检查\\IP\", \"r\")\n",
    "\n",
    "pw_list = pw_file.readlines()\n",
    "ip_list = ip_file.readlines()\n",
    "\n",
    "for ip in ip_list:\n",
    "    # print(pw)\n",
    "    if ip == \"\\n\":\n",
    "        print(\"没了\")\n",
    "        break\n",
    "    for pw in pw_list:\n",
    "        pw = pw.strip(\"\\n\")\n",
    "        ip = ip.strip(\"\\n\")\n",
    "        print(f'{ip}的密码是{pw}')\n",
    "        print(\"-\" * 50)\n",
    "pw_file.close()\n",
    "ip_file.close()"
   ],
   "metadata": {
    "collapsed": false,
    "pycharm": {
     "name": "#%%\n",
     "is_executing": true
    }
   }
  },
  {
   "cell_type": "code",
   "execution_count": 64,
   "outputs": [
    {
     "name": "stdout",
     "output_type": "stream",
     "text": [
      "3\n",
      "{'192.168.111.232': 'vfj@1234', '192.168.111.233': 'vfj@1234', '192.168.1.234': 'vfj@1234', '192.168.111.234': 'vfj@1234'}\n"
     ]
    }
   ],
   "source": [
    "import os\n",
    "\n",
    "IP_PATH = os.path.join(os.getcwd(), \"Demos\", \"前置检查\", \"IP\")\n",
    "PW_PATH = os.path.join(os.getcwd(), \"Demos\", \"前置检查\", \"PW\")\n",
    "count_pw = len(open(PW_PATH).readlines())\n",
    "print(count_pw)\n",
    "\n",
    "pw_ip_dict = {}\n",
    "with open(IP_PATH, \"r\") as ip_file:\n",
    "    ip_list = ip_file.readlines()\n",
    "    for ip in ip_list:\n",
    "        ip = ip.strip(\"\\n\")\n",
    "        if ip == \"\\n\":\n",
    "            print(\"谁他妈加的空行？坑爹呢！！！\")\n",
    "            break\n",
    "        with open(PW_PATH, \"r\") as pw_file:\n",
    "            pw_list = pw_file.readlines()\n",
    "            for pw in pw_list:\n",
    "                pw = pw.strip(\"\\n\")\n",
    "                pw_ip_dict[ip] = pw\n",
    "print(pw_ip_dict)\n",
    "\n",
    "\n"
   ],
   "metadata": {
    "collapsed": false,
    "pycharm": {
     "name": "#%%\n"
    }
   }
  },
  {
   "cell_type": "code",
   "execution_count": 50,
   "outputs": [
    {
     "name": "stdout",
     "output_type": "stream",
     "text": [
      "D:\\ProgramData\\Anaconda3\\lib\\site-packages\\ipykernel_launcher.py\n",
      "D:\\WorkSpaces\\Python\\WorkSpaces\\Demos\n",
      "<module 'ntpath' from 'D:\\\\ProgramData\\\\Anaconda3\\\\lib\\\\ntpath.py'>\n"
     ]
    }
   ],
   "source": [
    "import sys\n",
    "import os\n",
    "\n",
    "print(sys.argv[0])\n",
    "print(os.getcwd())\n",
    "print(os.path)"
   ],
   "metadata": {
    "collapsed": false,
    "pycharm": {
     "name": "#%%\n"
    }
   }
  },
  {
   "cell_type": "code",
   "execution_count": 56,
   "outputs": [
    {
     "name": "stdout",
     "output_type": "stream",
     "text": [
      "1\n",
      "2\n",
      "3\n",
      "4\n"
     ]
    }
   ],
   "source": [
    "class A:\n",
    "    cla_1 = 1\n",
    "    cla_2 = 2\n",
    "\n",
    "    def __init__(self):\n",
    "        print(self.cla_1)\n",
    "        print(A.cla_2)\n",
    "        self.cla_1 = 3\n",
    "        A.cla_2 = 4\n",
    "        print(self.cla_1)\n",
    "        print(A.cla_2)\n",
    "\n",
    "    @classmethod\n",
    "    def cls1(cls):\n",
    "        print(cls.cla_1)\n",
    "        print(A.cla_2)\n",
    "\n",
    "\n",
    "TTT = A()"
   ],
   "metadata": {
    "collapsed": false,
    "pycharm": {
     "name": "#%%\n"
    }
   }
  },
  {
   "cell_type": "code",
   "execution_count": 59,
   "outputs": [
    {
     "ename": "NoValidConnectionsError",
     "evalue": "[Errno None] Unable to connect to port 22 on 192.168.3.1",
     "output_type": "error",
     "traceback": [
      "\u001B[1;31m---------------------------------------------------------------------------\u001B[0m",
      "\u001B[1;31mNoValidConnectionsError\u001B[0m                   Traceback (most recent call last)",
      "Input \u001B[1;32mIn [59]\u001B[0m, in \u001B[0;36m<cell line: 6>\u001B[1;34m()\u001B[0m\n\u001B[0;32m      2\u001B[0m \u001B[38;5;66;03m# transport = paramiko.Transport((\"192.168.3.3\", 22))\u001B[39;00m\n\u001B[0;32m      4\u001B[0m ssh \u001B[38;5;241m=\u001B[39m paramiko\u001B[38;5;241m.\u001B[39mSSHClient()\n\u001B[1;32m----> 6\u001B[0m \u001B[43mssh\u001B[49m\u001B[38;5;241;43m.\u001B[39;49m\u001B[43mconnect\u001B[49m\u001B[43m(\u001B[49m\u001B[38;5;124;43m\"\u001B[39;49m\u001B[38;5;124;43m192.168.3.1\u001B[39;49m\u001B[38;5;124;43m\"\u001B[39;49m\u001B[43m,\u001B[49m\u001B[38;5;241;43m22\u001B[39;49m\u001B[43m,\u001B[49m\u001B[43musername\u001B[49m\u001B[38;5;241;43m=\u001B[39;49m\u001B[38;5;124;43m\"\u001B[39;49m\u001B[38;5;124;43m123\u001B[39;49m\u001B[38;5;124;43m\"\u001B[39;49m\u001B[43m,\u001B[49m\u001B[43mpassword\u001B[49m\u001B[38;5;241;43m=\u001B[39;49m\u001B[38;5;124;43m\"\u001B[39;49m\u001B[38;5;124;43m321\u001B[39;49m\u001B[38;5;124;43m\"\u001B[39;49m\u001B[43m,\u001B[49m\u001B[43mtimeout\u001B[49m\u001B[38;5;241;43m=\u001B[39;49m\u001B[38;5;241;43m3\u001B[39;49m\u001B[43m)\u001B[49m\n",
      "File \u001B[1;32mD:\\ProgramData\\Anaconda3\\lib\\site-packages\\paramiko\\client.py:368\u001B[0m, in \u001B[0;36mSSHClient.connect\u001B[1;34m(self, hostname, port, username, password, pkey, key_filename, timeout, allow_agent, look_for_keys, compress, sock, gss_auth, gss_kex, gss_deleg_creds, gss_host, banner_timeout, auth_timeout, gss_trust_dns, passphrase, disabled_algorithms)\u001B[0m\n\u001B[0;32m    362\u001B[0m     \u001B[38;5;66;03m# Make sure we explode usefully if no address family attempts\u001B[39;00m\n\u001B[0;32m    363\u001B[0m     \u001B[38;5;66;03m# succeeded. We've no way of knowing which error is the \"right\"\u001B[39;00m\n\u001B[0;32m    364\u001B[0m     \u001B[38;5;66;03m# one, so we construct a hybrid exception containing all the real\u001B[39;00m\n\u001B[0;32m    365\u001B[0m     \u001B[38;5;66;03m# ones, of a subclass that client code should still be watching for\u001B[39;00m\n\u001B[0;32m    366\u001B[0m     \u001B[38;5;66;03m# (socket.error)\u001B[39;00m\n\u001B[0;32m    367\u001B[0m     \u001B[38;5;28;01mif\u001B[39;00m \u001B[38;5;28mlen\u001B[39m(errors) \u001B[38;5;241m==\u001B[39m \u001B[38;5;28mlen\u001B[39m(to_try):\n\u001B[1;32m--> 368\u001B[0m         \u001B[38;5;28;01mraise\u001B[39;00m NoValidConnectionsError(errors)\n\u001B[0;32m    370\u001B[0m t \u001B[38;5;241m=\u001B[39m \u001B[38;5;28mself\u001B[39m\u001B[38;5;241m.\u001B[39m_transport \u001B[38;5;241m=\u001B[39m Transport(\n\u001B[0;32m    371\u001B[0m     sock,\n\u001B[0;32m    372\u001B[0m     gss_kex\u001B[38;5;241m=\u001B[39mgss_kex,\n\u001B[0;32m    373\u001B[0m     gss_deleg_creds\u001B[38;5;241m=\u001B[39mgss_deleg_creds,\n\u001B[0;32m    374\u001B[0m     disabled_algorithms\u001B[38;5;241m=\u001B[39mdisabled_algorithms,\n\u001B[0;32m    375\u001B[0m )\n\u001B[0;32m    376\u001B[0m t\u001B[38;5;241m.\u001B[39muse_compression(compress\u001B[38;5;241m=\u001B[39mcompress)\n",
      "\u001B[1;31mNoValidConnectionsError\u001B[0m: [Errno None] Unable to connect to port 22 on 192.168.3.1"
     ]
    }
   ],
   "source": [
    "import paramiko\n",
    "\n",
    "transport = paramiko.Transport((\"192.168.3.3\", 22))\n",
    "\n",
    "ssh = paramiko.SSHClient()\n",
    "\n",
    "ssh.connect(\"192.168.3.1\", 22, username=\"123\", password=\"321\", timeout=3)"
   ],
   "metadata": {
    "collapsed": false,
    "pycharm": {
     "name": "#%%\n"
    }
   }
  },
  {
   "cell_type": "code",
   "execution_count": 61,
   "outputs": [
    {
     "data": {
      "text/plain": "0.9767441860465116"
     },
     "execution_count": 61,
     "metadata": {},
     "output_type": "execute_result"
    }
   ],
   "source": [
    "import difflib\n",
    "\n",
    "a = 'Authentication failed.'\n",
    "b = 'Authentication failed'\n",
    "difflib.SequenceMatcher(None, a, b).quick_ratio()"
   ],
   "metadata": {
    "collapsed": false,
    "pycharm": {
     "name": "#%%\n"
    }
   }
  },
  {
   "cell_type": "code",
   "execution_count": null,
   "outputs": [],
   "source": [
    "count_pw = len(open(pw_file).readlines())"
   ],
   "metadata": {
    "collapsed": false,
    "pycharm": {
     "name": "#%%\n"
    }
   }
  },
  {
   "cell_type": "code",
   "execution_count": 9,
   "outputs": [
    {
     "name": "stdout",
     "output_type": "stream",
     "text": [
      "{'server': {'servername': '192.168.11.1', 'serverport': '8000'}, 'client_srv': {'server': 'localhost', 'port': '8000'}}\n",
      "{'servername': '192.168.11.1', 'serverport': '8000'}\n",
      "192.168.11.1 8000\n"
     ]
    }
   ],
   "source": [
    "from configobj import ConfigObj\n",
    "\n",
    "conf_ini = r\"./test.ini\"\n",
    "config = ConfigObj(conf_ini, encoding=\"UTF8\")\n",
    "\n",
    "print(config)\n",
    "print(config['server'])\n",
    "print(config['server']['servername'], config['server']['serverport'])\n",
    "\n",
    "config['new_items'] = {}\n",
    "config['new_items']['Items1'] = \"test items\"\n",
    "config.write()"
   ],
   "metadata": {
    "collapsed": false,
    "pycharm": {
     "name": "#%%\n"
    }
   }
  },
  {
   "cell_type": "code",
   "execution_count": 5,
   "outputs": [
    {
     "name": "stdout",
     "output_type": "stream",
     "text": [
      "{\"code\":2,\"msg\":\"提交成功\",\"smsid\":\"16585171883672485413\"}\n"
     ]
    }
   ],
   "source": [
    "import urllib3\n",
    "\n",
    "sms = urllib3.PoolManager(timeout = 3.0)\n",
    "# data = {\n",
    "#     'account':'C79839345',\n",
    "#     'password':'caa1c9028312cfbe5f840873f26d075a',\n",
    "#     'mobile':'18983884801',\n",
    "#     'content':'您的验证码是：123456。请不要把验证码泄露给其他人。',\n",
    "#     'format':'json',\n",
    "# }\n",
    "data = {\n",
    "    \"custno\": \"\",\n",
    "    \"phoneno\": 18983884801,\n",
    "    \"remark\": \"黑匣子系统单线程处理时间超警戒[16674], 请尽快处理\"\n",
    "}\n",
    "\n",
    "url = \"http://10.50.14.201:8080/sms/services/MsgService/\"\n",
    "req = sms.request(\"POST\", url, fields=data)\n",
    "\n",
    "print(req.data.decode())"
   ],
   "metadata": {
    "collapsed": false,
    "pycharm": {
     "name": "#%%\n"
    }
   }
  }
 ],
 "metadata": {
  "kernelspec": {
   "display_name": "Python 3",
   "language": "python",
   "name": "python3"
  },
  "language_info": {
   "codemirror_mode": {
    "name": "ipython",
    "version": 2
   },
   "file_extension": ".py",
   "mimetype": "text/x-python",
   "name": "python",
   "nbconvert_exporter": "python",
   "pygments_lexer": "ipython2",
   "version": "2.7.6"
  }
 },
 "nbformat": 4,
 "nbformat_minor": 0
}