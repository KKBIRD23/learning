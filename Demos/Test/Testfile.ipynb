{
 "cells": [
  {
   "cell_type": "markdown",
   "source": [
    "sys.argv[]测试"
   ],
   "metadata": {
    "collapsed": false,
    "pycharm": {
     "name": "#%% md\n"
    }
   }
  },
  {
   "cell_type": "code",
   "execution_count": null,
   "outputs": [],
   "source": [
    "import sys\n",
    "import os\n",
    "\n",
    "print(sys.argv[0])\n",
    "print(os.getcwd())\n",
    "print(os.path)"
   ],
   "metadata": {
    "collapsed": false,
    "pycharm": {
     "name": "#%%\n"
    }
   }
  },
  {
   "cell_type": "markdown",
   "source": [],
   "metadata": {
    "collapsed": false,
    "pycharm": {
     "name": "#%% md\n"
    }
   }
  },
  {
   "cell_type": "markdown",
   "source": [
    "paramiko帕拉米科SSH2远程连接模块测试"
   ],
   "metadata": {
    "collapsed": false,
    "pycharm": {
     "name": "#%% md\n"
    }
   }
  },
  {
   "cell_type": "code",
   "execution_count": null,
   "outputs": [],
   "source": [
    "import paramiko\n",
    "\n",
    "transport = paramiko.Transport((\"192.168.3.3\", 22))\n",
    "\n",
    "ssh = paramiko.SSHClient()\n",
    "\n",
    "ssh.connect(\"192.168.3.1\", 22, username=\"123\", password=\"321\", timeout=3)"
   ],
   "metadata": {
    "collapsed": false,
    "pycharm": {
     "name": "#%%\n"
    }
   }
  },
  {
   "cell_type": "markdown",
   "source": [],
   "metadata": {
    "collapsed": false,
    "pycharm": {
     "name": "#%% md\n"
    }
   }
  },
  {
   "cell_type": "markdown",
   "source": [
    "difflib文件比较模块,返回打分有点意思"
   ],
   "metadata": {
    "collapsed": false,
    "pycharm": {
     "name": "#%% md\n"
    }
   }
  },
  {
   "cell_type": "code",
   "execution_count": 1,
   "outputs": [
    {
     "data": {
      "text/plain": "0.9767441860465116"
     },
     "execution_count": 1,
     "metadata": {},
     "output_type": "execute_result"
    }
   ],
   "source": [
    "import difflib\n",
    "\n",
    "a = 'Authentication failed.'\n",
    "b = 'Authentication failed'\n",
    "difflib.SequenceMatcher(None, a, b).quick_ratio()"
   ],
   "metadata": {
    "collapsed": false,
    "pycharm": {
     "name": "#%%\n"
    }
   }
  },
  {
   "cell_type": "markdown",
   "source": [],
   "metadata": {
    "collapsed": false,
    "pycharm": {
     "name": "#%% md\n"
    }
   }
  },
  {
   "cell_type": "markdown",
   "source": [
    "configobj模块测试 操作ini配置文件"
   ],
   "metadata": {
    "collapsed": false,
    "pycharm": {
     "name": "#%% md\n"
    }
   }
  },
  {
   "cell_type": "code",
   "execution_count": null,
   "outputs": [],
   "source": [
    "from configobj import ConfigObj\n",
    "\n",
    "conf_ini = r\"./test.ini\"\n",
    "config = ConfigObj(conf_ini, encoding=\"UTF8\")\n",
    "\n",
    "print(config)\n",
    "print(config['server'])\n",
    "print(config['server']['servername'], config['server']['serverport'])\n",
    "\n",
    "config['new_items'] = {}\n",
    "config['new_items']['Items1'] = \"test items\"\n",
    "config.write()"
   ],
   "metadata": {
    "collapsed": false,
    "pycharm": {
     "name": "#%%\n"
    }
   }
  },
  {
   "cell_type": "markdown",
   "source": [],
   "metadata": {
    "collapsed": false,
    "pycharm": {
     "name": "#%% md\n"
    }
   }
  },
  {
   "cell_type": "markdown",
   "source": [
    "urllib3发短信——发高速没成功"
   ],
   "metadata": {
    "collapsed": false,
    "pycharm": {
     "name": "#%% md\n"
    }
   }
  },
  {
   "cell_type": "code",
   "execution_count": null,
   "outputs": [],
   "source": [
    "import urllib3\n",
    "\n",
    "sms = urllib3.PoolManager(timeout = 3.0)\n",
    "# data = {\n",
    "#     'account':'C79839345',\n",
    "#     'password':'caa1c9028312cfbe5f840873f26d075a',\n",
    "#     'mobile':'18983884801',\n",
    "#     'content':'您的验证码是：123456。请不要把验证码泄露给其他人。',\n",
    "#     'format':'json',\n",
    "# }\n",
    "data = {\n",
    "    \"custno\": \"\",\n",
    "    \"phoneno\": 18983884801,\n",
    "    \"remark\": \"黑匣子系统单线程处理时间超警戒[16674], 请尽快处理\"\n",
    "}\n",
    "\n",
    "url = \"http://10.50.14.201:8080/sms/services/MsgService/\"\n",
    "req = sms.request(\"POST\", url, fields=data)\n",
    "\n",
    "print(req.data.decode())"
   ],
   "metadata": {
    "collapsed": false,
    "pycharm": {
     "name": "#%%\n"
    }
   }
  },
  {
   "cell_type": "markdown",
   "source": [],
   "metadata": {
    "collapsed": false,
    "pycharm": {
     "name": "#%% md\n"
    }
   }
  },
  {
   "cell_type": "markdown",
   "source": [
    "watchdog库使用测试"
   ],
   "metadata": {
    "collapsed": false,
    "pycharm": {
     "name": "#%% md\n"
    }
   }
  },
  {
   "cell_type": "code",
   "execution_count": null,
   "outputs": [],
   "source": [
    "\"\"\"\n",
    "看门狗的observer是基于threading.Thread 对象的，所以observer很多属性都继承了 threading.Thread 的属性.\n",
    "如果你不带参数地运行该脚本，就是要监控脚本文件所在的文件夹，如果要监控其他文件夹，记得运行时带文件夹的路径参数，如：\n",
    "python obserber.py /data/home/ckend/\n",
    "\"\"\"\n",
    "from watchdog.observers import Observer\n",
    "from watchdog.events import *\n",
    "import time\n",
    "\n",
    "a = r\"H:\\歌曲库\\ACG\\影视ACG\\加勒比海盗\"\n",
    "\n",
    "class MyHandler(FileSystemEventHandler):\n",
    "    def on_modified(self, event):\n",
    "        print(\"文件被修改了 %s\"%event.src_path)\n",
    "\n",
    "    def on_created(self, event):\n",
    "        print(\"文件被创建了 %s\" % event.src_path)\n",
    "\n",
    "\n",
    "if __name__ == \"__main__\":\n",
    "    path = a\n",
    "    event_handler = MyHandler()\n",
    "    observer = Observer()\n",
    "    observer.schedule(event_handler, path, recursive=True)\n",
    "    observer.start()\n",
    "\n",
    "    try:\n",
    "        while True:\n",
    "            time.sleep(1)\n",
    "\n",
    "    except KeyboardInterrupt:\n",
    "        observer.stop()\n",
    "    observer.join()\n"
   ],
   "metadata": {
    "collapsed": false,
    "pycharm": {
     "name": "#%%\n"
    }
   }
  },
  {
   "cell_type": "markdown",
   "source": [],
   "metadata": {
    "collapsed": false,
    "pycharm": {
     "name": "#%% md\n"
    }
   }
  },
  {
   "cell_type": "markdown",
   "source": [
    "suds —— python soap接口访问webserver"
   ],
   "metadata": {
    "collapsed": false,
    "pycharm": {
     "name": "#%% md\n"
    }
   }
  },
  {
   "cell_type": "code",
   "execution_count": 1,
   "outputs": [
    {
     "name": "stdout",
     "output_type": "stream",
     "text": [
      "\n",
      "Suds ( https://github.com/cackharot/suds-py3 )  version: 1.4.5.0 IN  build: 20211115\n",
      "\n",
      "Service ( MobileCodeWS ) tns=\"http://WebXml.com.cn/\"\n",
      "   Prefixes (1)\n",
      "      ns0 = \"http://WebXml.com.cn/\"\n",
      "   Ports (2):\n",
      "      (MobileCodeWSSoap)\n",
      "         Methods (2):\n",
      "            getDatabaseInfo()\n",
      "            getMobileCodeInfo(xs:string mobileCode, xs:string userID, )\n",
      "         Types (1):\n",
      "            ArrayOfString\n",
      "      (MobileCodeWSSoap12)\n",
      "         Methods (2):\n",
      "            getDatabaseInfo()\n",
      "            getMobileCodeInfo(xs:string mobileCode, xs:string userID, )\n",
      "         Types (1):\n",
      "            ArrayOfString\n",
      "--------------------------------------------------------------------------------\n"
     ]
    }
   ],
   "source": [
    "from suds.client import Client\n",
    "\n",
    "URL = \"http://www.webxml.com.cn/WebServices/MobileCodeWS.asmx?wsdl\"\n",
    "client = Client(URL)\n",
    "# result = client.service.getMobileCodeInfo(\"18983884801\")\n",
    "print(client)"
   ],
   "metadata": {
    "collapsed": false,
    "pycharm": {
     "name": "#%%\n"
    }
   }
  },
  {
   "cell_type": "code",
   "execution_count": null,
   "outputs": [],
   "source": [
    "import cv2\n"
   ],
   "metadata": {
    "collapsed": false,
    "pycharm": {
     "name": "#%%\n"
    }
   }
  }
 ],
 "metadata": {
  "kernelspec": {
   "display_name": "Python 3",
   "language": "python",
   "name": "python3"
  },
  "language_info": {
   "codemirror_mode": {
    "name": "ipython",
    "version": 2
   },
   "file_extension": ".py",
   "mimetype": "text/x-python",
   "name": "python",
   "nbconvert_exporter": "python",
   "pygments_lexer": "ipython2",
   "version": "2.7.6"
  }
 },
 "nbformat": 4,
 "nbformat_minor": 0
}